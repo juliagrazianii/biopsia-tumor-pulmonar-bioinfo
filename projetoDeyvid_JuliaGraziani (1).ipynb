{
  "nbformat": 4,
  "nbformat_minor": 0,
  "metadata": {
    "colab": {
      "provenance": []
    },
    "kernelspec": {
      "name": "python3",
      "display_name": "Python 3"
    },
    "language_info": {
      "name": "python"
    }
  },
  "cells": [
    {
      "cell_type": "code",
      "execution_count": null,
      "metadata": {
        "id": "hwBFTs1SrqUq"
      },
      "outputs": [],
      "source": [
        "from google.colab import drive\n",
        "drive.mount('/content/drive')"
      ]
    },
    {
      "cell_type": "code",
      "source": [
        "%%bash\n",
        "# Copiando e colando os arquivos da análise do Google Drive para esse ambiente de trabalho.\n",
        "# A barra invertida (\\) ignora espaços no diretório, e o ponto (.) traz para o ambiente de trabalho atual.\n",
        "cp /content/drive/MyDrive/Colab\\ Notebooks/AtvComplementar/Chr7-reference.fasta.gz .\n",
        "cp /content/drive/MyDrive/Colab\\ Notebooks/AtvComplementar/caso3-tumor-pulmonar_R1.fastq.gz .\n",
        "cp /content/drive/MyDrive/Colab\\ Notebooks/AtvComplementar/caso3-tumor-pulmonar_R2.fastq.gz ."
      ],
      "metadata": {
        "id": "BCa4UcnBszrG"
      },
      "execution_count": null,
      "outputs": []
    },
    {
      "cell_type": "markdown",
      "source": [
        "0. CONFIGURAÇÃO DO AMBIENTE"
      ],
      "metadata": {
        "id": "BZfNj0_evfGq"
      }
    },
    {
      "cell_type": "code",
      "execution_count": null,
      "metadata": {
        "collapsed": true,
        "id": "7AAbue9bEe0m"
      },
      "outputs": [],
      "source": [
        "%%bash\n",
        "# Instalando miniconda e mamba\n",
        "wget --quiet https://github.com/conda-forge/miniforge/releases/latest/download/Miniforge3-Linux-x86_64.sh\n",
        "bash Miniforge3-Linux-x86_64.sh -b -p /usr/local -u\n",
        "mamba init\n",
        "mamba config set auto_activate_base true\n",
        "mamba shell init --shell bash --root-prefix=~/.local/share/mamba\n",
        "rm Miniforge3-Linux-x86_64.sh"
      ]
    },
    {
      "cell_type": "code",
      "execution_count": null,
      "metadata": {
        "collapsed": true,
        "id": "6o9JEhp6F0JD"
      },
      "outputs": [],
      "source": [
        "%%bash\n",
        "# Instalando os softwares que serão utilizados\n",
        "mamba install -c bioconda -c conda-forge fastqc bwa gatk4 cutadapt samtools bedtools ensembl-vep=115 -y"
      ]
    },
    {
      "cell_type": "code",
      "execution_count": null,
      "metadata": {
        "id": "XuQiIitLbJ5m"
      },
      "outputs": [],
      "source": [
        "%%bash\n",
        "# Testando se um deles foi instalado corretamente\n",
        "vep --help"
      ]
    },
    {
      "cell_type": "code",
      "execution_count": null,
      "metadata": {
        "id": "t9MWHnkWgwWz"
      },
      "outputs": [],
      "source": [
        "%%bash\n",
        "# Criando as pastas para organizar os arquivos\n",
        "mkdir -p raw fastqc cutadapt bwa gatk mutect vep reference"
      ]
    },
    {
      "cell_type": "code",
      "execution_count": null,
      "metadata": {
        "id": "vyehK-nWQnQB"
      },
      "outputs": [],
      "source": [
        "%%bash\n",
        "# Movendo arquivos para as suas respectivas pastas e descompactar fasta.gz\n",
        "mv *.fastq.gz raw/\n",
        "gunzip -c Chr7-reference.fasta.gz > reference/Chr7-reference.fasta\n",
        "rm -rf Chr7-reference.fasta.gz sample_data/"
      ]
    },
    {
      "cell_type": "markdown",
      "source": [
        "1. CONTROLE DE QUALIDADE"
      ],
      "metadata": {
        "id": "MXkzdVjExvfj"
      }
    },
    {
      "cell_type": "code",
      "execution_count": null,
      "metadata": {
        "id": "bwZ6imuMZesX"
      },
      "outputs": [],
      "source": [
        "%%bash\n",
        "# Gerando o relatório da qualidade dos reads de sequenciamento\n",
        "fastqc -o fastqc/ raw/caso3-tumor-pulmonar_R1.fastq.gz raw/caso3-tumor-pulmonar_R2.fastq.gz"
      ]
    },
    {
      "cell_type": "code",
      "execution_count": null,
      "metadata": {
        "id": "t_JPX-mNF0AS"
      },
      "outputs": [],
      "source": [
        "%%bash\n",
        "# Filtro das sequências muito pequenas e corte das pontas\n",
        "cutadapt \\\n",
        "  -u 5 -U 5 \\\n",
        "  -u -5 -U -5 \\\n",
        "  -m 90 \\\n",
        "  -o cutadapt/caso3-tumor-pulmonar-trimmed_R1.fastq.gz \\\n",
        "  -p cutadapt/caso3-tumor-pulmonar-trimmed_R2.fastq.gz \\\n",
        "  raw/caso3-tumor-pulmonar_R1.fastq.gz \\\n",
        "  raw/caso3-tumor-pulmonar_R2.fastq.gz"
      ]
    },
    {
      "cell_type": "markdown",
      "source": [],
      "metadata": {
        "id": "ddHfrhoy1nT_"
      }
    },
    {
      "cell_type": "markdown",
      "source": [
        "2. MAPEAMENTO COM A REFERÊNCIA DO GENOMA HUMANO"
      ],
      "metadata": {
        "id": "coqUrKCs1h7P"
      }
    },
    {
      "cell_type": "code",
      "execution_count": null,
      "metadata": {
        "id": "MOMvG9EzCgkW"
      },
      "outputs": [],
      "source": [
        "%%bash\n",
        "# Indexando o genoma humano de referência para realizar o mapeamento e remoção de contaminante\n",
        "samtools faidx reference/Chr7-reference.fasta\n",
        "bwa index reference/Chr7-reference.fasta"
      ]
    },
    {
      "cell_type": "code",
      "execution_count": null,
      "metadata": {
        "id": "hvDSuj7PEK6c"
      },
      "outputs": [],
      "source": [
        "%%bash\n",
        "# Proceder com o alinhamento contra o genoma humano\n",
        "bwa mem reference/Chr7-reference.fasta \\\n",
        "  -R '@RG\\tID:sample1\\tSM:sample1\\tPL:ILLUMINA\\tLB:lib1\\tPU:unit1' \\\n",
        "  cutadapt/caso3-tumor-pulmonar-trimmed_R1.fastq.gz \\\n",
        "  cutadapt/caso3-tumor-pulmonar-trimmed_R2.fastq.gz \\\n",
        "  | samtools sort -o bwa/caso3-tumor-pulmonar-mapped.bam"
      ]
    },
    {
      "cell_type": "code",
      "source": [
        "%%bash\n",
        "# Indexar o bam para gerar o bai e visualizar no IGV\n",
        "samtools index bwa/caso3-tumor-pulmonar-mapped.bam"
      ],
      "metadata": {
        "id": "rjSUyNMaKUQO"
      },
      "execution_count": null,
      "outputs": []
    },
    {
      "cell_type": "markdown",
      "source": [
        "3. CHAMADA DE VARIANTES"
      ],
      "metadata": {
        "id": "y43GT0dr5qX1"
      }
    },
    {
      "cell_type": "code",
      "source": [
        "%%bash\n",
        "# Indexar a referência e BAM para chamada de variantes com GATK\n",
        "samtools dict reference/Chr7-reference.fasta > reference/Chr7-reference.dict\n",
        "samtools index bwa/caso3-tumor-pulmonar-mapped.bam"
      ],
      "metadata": {
        "id": "s5Qq7DWx-uUO"
      },
      "execution_count": null,
      "outputs": []
    },
    {
      "cell_type": "code",
      "source": [
        "%%bash\n",
        "# Chamada de variantes com mutect2\n",
        " gatk Mutect2 -R reference/Chr7-reference.fasta \\\n",
        "    -I bwa/caso3-tumor-pulmonar-mapped.bam \\\n",
        "    -O mutect/caso3-tumor-pulmonar-unfiltered.vcf"
      ],
      "metadata": {
        "id": "6R5-xndf8M9S"
      },
      "execution_count": null,
      "outputs": []
    },
    {
      "cell_type": "code",
      "source": [
        "%%bash\n",
        "# Filtragem de variantes\n",
        "gatk FilterMutectCalls \\\n",
        "    -R reference/Chr7-reference.fasta \\\n",
        "    -V mutect/caso3-tumor-pulmonar-unfiltered.vcf \\\n",
        "    -O mutect/caso3-tumor-pulmonar-filtered.vcf"
      ],
      "metadata": {
        "id": "wRkp7OzsTkhU"
      },
      "execution_count": null,
      "outputs": []
    },
    {
      "cell_type": "markdown",
      "source": [
        "4. ANOTAÇÃO DE VARIANTES"
      ],
      "metadata": {
        "id": "eQGrjYBo7igt"
      }
    },
    {
      "cell_type": "code",
      "source": [
        "%%bash\n",
        "# Script oficial baixa cache do genoma humano\n",
        "vep_install -a cf -s homo_sapiens -y GRCh38 --NO_UPDATE"
      ],
      "metadata": {
        "id": "bfXldub7TADL"
      },
      "execution_count": null,
      "outputs": []
    },
    {
      "cell_type": "code",
      "source": [
        "%%bash\n",
        "# Index VCF files para anotação\n",
        "bgzip mutect/caso3-tumor-pulmonar-filtered.vcf\n",
        "tabix -f -p vcf mutect/caso3-tumor-pulmonar-filtered.vcf.gz\n"
      ],
      "metadata": {
        "id": "bvfu-FJiUohO"
      },
      "execution_count": null,
      "outputs": []
    },
    {
      "cell_type": "code",
      "source": [
        "%%bash\n",
        "# Anotação de variantes a nível de proteína\n",
        "vep -i mutect/caso3-tumor-pulmonar-filtered.vcf.gz \\\n",
        "    --output_file vep/caso3-tumor-pulmonar-filtered.vep.tsv \\\n",
        "    --tab --force_overwrite \\\n",
        "    --offline --cache --dir_cache ~/.vep \\\n",
        "    --assembly GRCh38 \\\n",
        "    --symbol --hgvs --canonical --af_1kg --max_af \\\n",
        "    --everything --pick\\\n",
        "    --stats_file vep/caso3-tumor-pulmonar-filtered.vep.html\n"
      ],
      "metadata": {
        "id": "ZoUmcPRPxQ0Y"
      },
      "execution_count": null,
      "outputs": []
    }
  ]
}